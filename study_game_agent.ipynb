{
 "cells": [
  {
   "cell_type": "markdown",
   "id": "md-title-cell",
   "metadata": {},
   "source": [
    "# Study Game Agent"
   ]
  },
  {
   "cell_type": "markdown",
   "id": "md-setup-cell",
   "metadata": {},
   "source": [
    "## Setup and Imports"
   ]
  },
  {
   "cell_type": "code",
   "execution_count": 1,
   "id": "3b771fda-95b7-4b53-b884-4c4c92994153",
   "metadata": {},
   "outputs": [
    {
     "name": "stderr",
     "output_type": "stream",
     "text": [
      "\n",
      "[notice] A new release of pip is available: 23.0.1 -> 25.1.1\n",
      "[notice] To update, run: python.exe -m pip install --upgrade pip\n"
     ]
    }
   ],
   "source": [
    "!pip install -q langchain langgraph openai langchain_community langchain_openai"
   ]
  },
  {
   "cell_type": "code",
   "execution_count": 4,
   "id": "758ecb0a-e6f6-4058-a996-d3913d51530b",
   "metadata": {},
   "outputs": [],
   "source": [
    "\n",
    "from langgraph.graph import StateGraph,START,END\n",
    "from typing_extensions import TypedDict\n",
    "from typing import Annotated\n",
    "from langgraph.checkpoint.memory import MemorySaver\n",
    "from langgraph.graph.message import add_messages\n",
    "from langchain_core.messages import HumanMessage, AIMessage\n",
    "from langchain_openai import ChatOpenAI\n",
    "from langchain_core.prompts import ChatPromptTemplate\n",
    "from langchain_core.runnables import RunnableLambda #to wrap python funcs into a runnable chain for langraph nodes\n"
   ]
  },
  {
   "cell_type": "markdown",
   "id": "md-state-cell",
   "metadata": {},
   "source": [
    "## Define State"
   ]
  },
  {
   "cell_type": "code",
   "execution_count": 5,
   "id": "44ae42ff-450c-49a7-97e3-5d9041e9051f",
   "metadata": {},
   "outputs": [],
   "source": [
    "\n",
    "from langchain_core.messages import BaseMessage\n",
    "\n",
    "class Study(TypedDict):\n",
    "    messages: Annotated[list[BaseMessage], add_messages]\n",
    "    topic: str\n",
    "    age: int\n",
    "    style: str\n"
   ]
  },
  {
   "cell_type": "markdown",
   "id": "md-nodes-cell",
   "metadata": {},
   "source": [
    "## Define Graph Nodes"
   ]
  },
  {
   "cell_type": "code",
   "execution_count": 6,
   "id": "46b686d9-0019-4b21-9ffb-81b08d410015",
   "metadata": {},
   "outputs": [],
   "source": [
    "\n",
    "import os\n",
    "os.environ[\"OPENAI_API_KEY\"] = \"YOUR_API_KEY_HERE\"\n"
   ]
  },
  {
   "cell_type": "code",
   "execution_count": 7,
   "id": "37ffee41-3eb3-49ab-8a09-893925f6d885",
   "metadata": {},
   "outputs": [],
   "source": [
    "llm=ChatOpenAI(model=\"gpt-4\",temperature=0.7)"
   ]
  },
  {
   "cell_type": "code",
   "execution_count": 8,
   "id": "8ccd224e-53c2-41bb-9a24-52d1264baeab",
   "metadata": {},
   "outputs": [],
   "source": [
    "summary_prompt=ChatPromptTemplate.from_messages([(\"system\",\"Summarise this textbook content in simple words for person aged {age}\"),\n",
    "(\"human\",\"{topic}\")])"
   ]
  },
  {
   "cell_type": "code",
   "execution_count": 9,
   "id": "186f75b3-9f2b-444b-b1c1-09fa3e46e777",
   "metadata": {},
   "outputs": [],
   "source": [
    "async def summarizer_node(state: Study) -> Study:\n",
    "    print(\"\\n Summarizer Node Triggered!\")\n",
    "    print(\" Topic:\", state[\"topic\"])\n",
    "    print(\" Age:\", state[\"age\"])\n",
    "    \n",
    "    runnable_chain = summary_prompt | llm\n",
    "    try:\n",
    "        response = await runnable_chain.ainvoke({\n",
    "            \"topic\": state[\"topic\"],\n",
    "            \"age\": state[\"age\"]\n",
    "        })\n",
    "        print(\"Got summary response:\", response)\n",
    "        return {\n",
    "            \"messages\": state[\"messages\"] + [AIMessage(content=response.content)],\n",
    "            \"topic\": state[\"topic\"],\n",
    "            \"age\": state[\"age\"],\n",
    "            \"style\": state[\"style\"]\n",
    "        }\n",
    "    except Exception as e:\n",
    "        print(\" Error in summarizer_node:\", e)\n",
    "        return state  # fallback\n"
   ]
  },
  {
   "cell_type": "code",
   "execution_count": 40,
   "id": "9a1f1335-4435-4c39-ad8e-9ad5c34e22c5",
   "metadata": {},
   "outputs": [],
   "source": [
    "quiz_prompt=ChatPromptTemplate.from_messages([(\"system\",\"Make a fun 5 quiz with questions and answers from this summary for person aged {age}. Format each as:\\nQ1 Q2 ...\\nA1 A2 ...\"),\n",
    "                                                (\"human\",\"{summary}\")\n",
    "                                                ])\n"
   ]
  },
  {
   "cell_type": "code",
   "execution_count": 14,
   "id": "e133245b-7f91-4541-9184-14f4720408c1",
   "metadata": {},
   "outputs": [],
   "source": [
    "async def quiz_node(state: Study) -> Study:\n",
    "    print(\"\\n Quiz Node Triggered!\")\n",
    "    \n",
    "    summary = state[\"messages\"][-1].content if state[\"messages\"] else \"MISSING\"\n",
    "    print(\" Summary being passed:\", summary)\n",
    "\n",
    "    runnable_chain = quiz_prompt | llm\n",
    "    try:\n",
    "        quiz = await runnable_chain.ainvoke({\n",
    "            \"summary\": summary,\n",
    "            \"age\": state[\"age\"]\n",
    "        })\n",
    "        print(\" Got quiz response:\", quiz)\n",
    "\n",
    "        new_state = {\n",
    "            \"messages\": state[\"messages\"] + [AIMessage(content=quiz.content)],\n",
    "            \"topic\": state[\"topic\"],\n",
    "            \"age\": state[\"age\"],\n",
    "            \"style\": state[\"style\"]\n",
    "        }\n",
    "\n",
    "        print(\" Returning from quiz_node with messages:\")\n",
    "        for msg in new_state[\"messages\"]:\n",
    "            print(f\" - Type: {type(msg)}, Content: {msg.content}\")\n",
    "\n",
    "        return new_state\n",
    "\n",
    "    except Exception as e:\n",
    "        print(\" Error in quiz_node:\", e)\n",
    "        return state\n"
   ]
  },
  {
   "cell_type": "code",
   "execution_count": 15,
   "id": "42d45035-4415-4fad-954c-82a6db74aae0",
   "metadata": {},
   "outputs": [
    {
     "name": "stdout",
     "output_type": "stream",
     "text": [
      "Summarizer Node: <function summarizer_node at 0x0000022E9E5E96C0>\n",
      "Quiz Node: <function quiz_node at 0x0000022E9D114E50>\n"
     ]
    }
   ],
   "source": [
    "print(\"Summarizer Node:\", summarizer_node)\n",
    "print(\"Quiz Node:\", quiz_node)\n"
   ]
  },
  {
   "cell_type": "code",
   "execution_count": 16,
   "id": "c9dc1c4f-7b86-40d0-b0be-91247aff47ac",
   "metadata": {},
   "outputs": [],
   "source": [
    "puzzle_prompt = ChatPromptTemplate.from_messages([\n",
    "    (\"system\", \"You're a puzzle maker for people aged {age}. Turn the summary into a mystery or logic puzzle with answers.Format as:\\nP: ...\\nA\"),\n",
    "    (\"human\", \"{summary}\")\n",
    "])\n"
   ]
  },
  {
   "cell_type": "code",
   "execution_count": 17,
   "id": "347b17d4-43fd-43c0-b3f0-11ea32797595",
   "metadata": {},
   "outputs": [],
   "source": [
    "async def puzzle_node(state: Study) -> Study:\n",
    "    print(\"\\n Puzzle Node Triggered!\")\n",
    "\n",
    "    summary = state[\"messages\"][-1].content if state[\"messages\"] else \"MISSING\"\n",
    "    print(\" Summary being passed:\", summary)\n",
    "\n",
    "    runnable_chain = puzzle_prompt | llm\n",
    "    try:\n",
    "        puzzle = await runnable_chain.ainvoke({\n",
    "            \"summary\": summary,\n",
    "            \"age\": state[\"age\"]\n",
    "        })\n",
    "        print(\" Got puzzle response:\", puzzle)\n",
    "\n",
    "        new_state = {\n",
    "            \"messages\": state[\"messages\"] + [AIMessage(content=puzzle.content)],\n",
    "            \"topic\": state[\"topic\"],\n",
    "            \"age\": state[\"age\"],\n",
    "            \"style\": state[\"style\"]\n",
    "        }\n",
    "\n",
    "        print(\" Returning from puzzle_node with messages:\")\n",
    "        for msg in new_state[\"messages\"]:\n",
    "            print(f\" - Type: {type(msg)}, Content: {msg.content}\")\n",
    "\n",
    "        return new_state\n",
    "\n",
    "    except Exception as e:\n",
    "        print(\"Error in puzzle_node:\", e)\n",
    "        return state\n"
   ]
  },
  {
   "cell_type": "code",
   "execution_count": 18,
   "id": "e1748b3f-432d-49f0-b758-22f831d99ae5",
   "metadata": {},
   "outputs": [],
   "source": [
    "def choose_game(state: Study) -> str:\n",
    "    if state.get(\"style\") == \"quiz\":\n",
    "        return \"quiz\"\n",
    "    else:\n",
    "        return \"puzzle\""
   ]
  },
  {
   "cell_type": "markdown",
   "id": "md-graph-cell",
   "metadata": {},
   "source": [
    "## Build and Compile Graph"
   ]
  },
  {
   "cell_type": "code",
   "execution_count": 19,
   "id": "703badea-be4e-478a-b2df-6f3a408581a8",
   "metadata": {},
   "outputs": [],
   "source": [
    "graph = StateGraph(Study)\n",
    "graph.add_node(\"summarize\", summarizer_node)\n",
    "graph.add_node(\"quiz\", quiz_node)\n",
    "graph.add_node(\"puzzle\", puzzle_node)  \n",
    "\n",
    "graph.set_entry_point(\"summarize\")\n",
    "graph.add_conditional_edges(\"summarize\", choose_game, {\n",
    "    \"quiz\": \"quiz\",\n",
    "    \"puzzle\": \"puzzle\"\n",
    "})\n",
    "graph.add_edge(\"quiz\", END)\n",
    "graph.add_edge(\"puzzle\", END)\n",
    "\n",
    "compiled_graph = graph.compile(checkpointer=MemorySaver())\n"
   ]
  },
  {
   "cell_type": "markdown",
   "id": "md-run-cell",
   "metadata": {},
   "source": [
    "## Run the Study Game"
   ]
  },
  {
   "cell_type": "code",
   "execution_count": 54,
   "id": "a02a7dae-1dc6-4429-bdab-2d843eac8339",
   "metadata": {},
   "outputs": [],
   "source": [
    "import asyncio\n",
    "import nest_asyncio\n",
    "nest_asyncio.apply()\n",
    "\n",
    "\"\"\"\n",
    "async def run_study(topic: str, age: int = 12, style: str = \"quiz\"):\n",
    "    initial_state = {\"topic\": topic, \"age\": age, \"style\": style, \"messages\": []}\n",
    "    config = {\"configurable\": {\"thread_id\": \"study-thread-\" + str(hash(topic + str(age) + style))}}\n",
    "\n",
    "    print(f\"\\nStudy Game: {topic} (Age {age}, Style: {style})\")\n",
    "    print(\"─\" * 55)\n",
    "\n",
    "    try:\n",
    "        async for step in compiled_graph.astream(initial_state, config):\n",
    "            if \"messages\" in step:\n",
    "                for msg in step[\"messages\"]:\n",
    "                    if isinstance(msg, AIMessage):\n",
    "                        print(f\"\\n {msg.content.strip()}\")\n",
    "            if \"__end__\" in step:\n",
    "                print(\"\\nThat’s the end of the game \")\n",
    "    except Exception as e:\n",
    "        print(\"Something went wrong:\", e)\n",
    "\n",
    "\n",
    "import asyncio\n",
    "import nest_asyncio\n",
    "import re\n",
    "nest_asyncio.apply()\n",
    "\"\"\"\n",
    "import asyncio\n",
    "import nest_asyncio\n",
    "import re\n",
    "from langchain_core.messages import AIMessage\n",
    "nest_asyncio.apply()\n",
    "import asyncio\n",
    "import nest_asyncio\n",
    "import re\n",
    "from langchain_core.messages import AIMessage\n",
    "\n",
    "nest_asyncio.apply()\n",
    "\n",
    "async def run_study(topic: str, age: int = 12, style: str = \"quiz\"):\n",
    "    initial_state = {\"topic\": topic, \"age\": age, \"style\": style, \"messages\": []}\n",
    "    config = {\"configurable\": {\"thread_id\": f\"study-thread-{hash(topic + str(age) + style)}\"}}\n",
    "\n",
    "    print(f\"\\nStudy Game: {topic} (Age {age}, Style: {style})\")\n",
    "    print(\"─\" * 60)\n",
    "\n",
    "    all_questions = []\n",
    "    all_answers = []\n",
    "\n",
    "    try:\n",
    "        async for step in compiled_graph.astream(initial_state, config):\n",
    "            if \"messages\" in step:\n",
    "                for msg in step[\"messages\"]:\n",
    "                    if not isinstance(msg, AIMessage):\n",
    "                        continue\n",
    "\n",
    "                    content = msg.content.strip()\n",
    "\n",
    "                    # Extract Q&A pairs\n",
    "                    if style == \"quiz\" and \"Q:\" in content and \"A:\" in content:\n",
    "                        qa_pairs = re.findall(r\"Q:\\s*(.*?)\\nA:\\s*(.*?)(?=\\nQ:|\\Z)\", content, re.DOTALL)\n",
    "                        for q, a in qa_pairs:\n",
    "                            all_questions.append(q.strip())\n",
    "                            all_answers.append(a.strip())\n",
    "\n",
    "                    elif style == \"puzzle\" and \"P:\" in content and \"A:\" in content:\n",
    "                        puzzle_pairs = re.findall(r\"P:\\s*(.*?)\\nA:\\s*(.*?)(?=\\nP:|\\Z)\", content, re.DOTALL)\n",
    "                        for p, a in puzzle_pairs:\n",
    "                            all_questions.append(p.strip())\n",
    "                            all_answers.append(a.strip())\n",
    "\n",
    "                    else:\n",
    "                        print(f\"\\n {content}\\n---\")\n",
    "\n",
    "            elif \"__end__\" in step:\n",
    "                print(\"\\nStudy session complete.\")\n",
    "\n",
    "    except Exception as e:\n",
    "        print(\"Something went wrong:\", e)\n"
   ]
  },
  {
   "cell_type": "code",
   "execution_count": 55,
   "id": "48909dcb-1afd-457e-9413-ca4a43401b8a",
   "metadata": {},
   "outputs": [
    {
     "name": "stdout",
     "output_type": "stream",
     "text": [
      "\n",
      "Study Game: What is process of madhubani painting (Age 7, Style: puzzle)\n",
      "────────────────────────────────────────────────────────────\n",
      "\n",
      " Summarizer Node Triggered!\n",
      " Topic: What is process of madhubani painting\n",
      " Age: 7\n",
      "Got summary response: content=\"Madhubani painting is a cool art form from India. It is a way of drawing and coloring that starts with making a rough sketch using a pencil. Then, the artist goes over that with a pen, using special black ink. The picture is then filled in with bright colors like red, blue, green, and yellow. The pictures often show things like sun, moon, trees, animals, and people. This kind of art is really special because it tells stories and traditions from the artist's culture.\" additional_kwargs={'refusal': None} response_metadata={'token_usage': {'completion_tokens': 102, 'prompt_tokens': 33, 'total_tokens': 135, 'completion_tokens_details': {'accepted_prediction_tokens': 0, 'audio_tokens': 0, 'reasoning_tokens': 0, 'rejected_prediction_tokens': 0}, 'prompt_tokens_details': {'audio_tokens': 0, 'cached_tokens': 0}}, 'model_name': 'gpt-4-0613', 'system_fingerprint': None, 'id': 'chatcmpl-BpZv6hpUIMST6diaDH6MFbi0I6AXV', 'service_tier': 'default', 'finish_reason': 'stop', 'logprobs': None} id='run--c004b915-2a11-4955-8c21-f1ce28cdbc9e-0' usage_metadata={'input_tokens': 33, 'output_tokens': 102, 'total_tokens': 135, 'input_token_details': {'audio': 0, 'cache_read': 0}, 'output_token_details': {'audio': 0, 'reasoning': 0}}\n",
      "\n",
      "\n",
      " Madhubani painting is a cool art form from India. It is a way of drawing and coloring that starts with making a rough sketch using a pencil. Then, the artist goes over that with a pen, using special black ink. The picture is then filled in with bright colors like red, blue, green, and yellow. The pictures often show things like sun, moon, trees, animals, and people. This kind of art is really special because it tells stories and traditions from the artist's culture.\n",
      "---\n",
      " Puzzle Node Triggered!\n",
      " Summary being passed: Madhubani painting is a cool art form from India. It is a way of drawing and coloring that starts with making a rough sketch using a pencil. Then, the artist goes over that with a pen, using special black ink. The picture is then filled in with bright colors like red, blue, green, and yellow. The pictures often show things like sun, moon, trees, animals, and people. This kind of art is really special because it tells stories and traditions from the artist's culture.\n",
      " Got puzzle response: content=\"P: Priya, a talented young artist, is using Madhubani painting to create a special piece of art. She made a rough sketch with a pencil and then went over it with a special black ink pen. She colored the picture with bright red, blue, green, and yellow. Her painting features the sun, moon, a tree, a peacock, and two people. \\n\\nHere are some clues she left for us to figure out which color she used for each object:\\n\\n1. She used red for an object that is seen during the daytime.\\n2. The peacock, which is her favorite bird, is not blue.\\n3. The tree, which provides shade during the day, isn't yellow or red.\\n4. One of the people is wearing a blue dress, but it is not the same color as the moon.\\n5. The moon and the sun are not of the same color.\\n\\nCan you figure out the color of each object?\\n\\nA: The sun is red, the moon is yellow, the tree is green, the peacock is blue, and the people are blue and red.\" additional_kwargs={'refusal': None} response_metadata={'token_usage': {'completion_tokens': 225, 'prompt_tokens': 142, 'total_tokens': 367, 'completion_tokens_details': {'accepted_prediction_tokens': 0, 'audio_tokens': 0, 'reasoning_tokens': 0, 'rejected_prediction_tokens': 0}, 'prompt_tokens_details': {'audio_tokens': 0, 'cached_tokens': 0}}, 'model_name': 'gpt-4-0613', 'system_fingerprint': None, 'id': 'chatcmpl-BpZvB5xDUcx1lAgPA2QXiUw1zwvX8', 'service_tier': 'default', 'finish_reason': 'stop', 'logprobs': None} id='run--29290b8f-c916-41d6-802f-16310202dc6a-0' usage_metadata={'input_tokens': 142, 'output_tokens': 225, 'total_tokens': 367, 'input_token_details': {'audio': 0, 'cache_read': 0}, 'output_token_details': {'audio': 0, 'reasoning': 0}}\n",
      " Returning from puzzle_node with messages:\n",
      " - Type: <class 'langchain_core.messages.ai.AIMessage'>, Content: Madhubani painting is a cool art form from India. It is a way of drawing and coloring that starts with making a rough sketch using a pencil. Then, the artist goes over that with a pen, using special black ink. The picture is then filled in with bright colors like red, blue, green, and yellow. The pictures often show things like sun, moon, trees, animals, and people. This kind of art is really special because it tells stories and traditions from the artist's culture.\n",
      " - Type: <class 'langchain_core.messages.ai.AIMessage'>, Content: P: Priya, a talented young artist, is using Madhubani painting to create a special piece of art. She made a rough sketch with a pencil and then went over it with a special black ink pen. She colored the picture with bright red, blue, green, and yellow. Her painting features the sun, moon, a tree, a peacock, and two people. \n",
      "\n",
      "Here are some clues she left for us to figure out which color she used for each object:\n",
      "\n",
      "1. She used red for an object that is seen during the daytime.\n",
      "2. The peacock, which is her favorite bird, is not blue.\n",
      "3. The tree, which provides shade during the day, isn't yellow or red.\n",
      "4. One of the people is wearing a blue dress, but it is not the same color as the moon.\n",
      "5. The moon and the sun are not of the same color.\n",
      "\n",
      "Can you figure out the color of each object?\n",
      "\n",
      "A: The sun is red, the moon is yellow, the tree is green, the peacock is blue, and the people are blue and red.\n",
      "\n",
      "Study session complete.\n"
     ]
    }
   ],
   "source": [
    "\n",
    "\n",
    "await run_study(\"What is process of madhubani painting\", age=7, style=\"puzzle\")\n"
   ]
  },
  {
   "cell_type": "code",
   "execution_count": 56,
   "id": "57d18dc7-ca36-4b66-8905-e94569505234",
   "metadata": {},
   "outputs": [
    {
     "name": "stdout",
     "output_type": "stream",
     "text": [
      "\n",
      "Study Game: Explain the tea leaf paradox (Age 16, Style: quiz)\n",
      "────────────────────────────────────────────────────────────\n",
      "\n",
      " Summarizer Node Triggered!\n",
      " Topic: Explain the tea leaf paradox\n",
      " Age: 16\n",
      "Got summary response: content=\"The tea leaf paradox is a phenomenon that you might have noticed when you stir a cup of tea with leaves at the bottom. When you stir the tea, instead of being pushed to the sides of the cup due to centrifugal force, the leaves gather in the center. This happens because stirring creates a whirlpool effect where the surface of the liquid is higher at the edges and lower in the middle. The higher pressure at the edges pushes the leaves towards the center. It's not really a paradox, but it’s called so because it seems to go against what we'd initially expect.\" additional_kwargs={'refusal': None} response_metadata={'token_usage': {'completion_tokens': 117, 'prompt_tokens': 31, 'total_tokens': 148, 'completion_tokens_details': {'accepted_prediction_tokens': 0, 'audio_tokens': 0, 'reasoning_tokens': 0, 'rejected_prediction_tokens': 0}, 'prompt_tokens_details': {'audio_tokens': 0, 'cached_tokens': 0}}, 'model_name': 'gpt-4-0613', 'system_fingerprint': None, 'id': 'chatcmpl-BpZvKrmnP29nHYcFrSSAJT2RaPHQa', 'service_tier': 'default', 'finish_reason': 'stop', 'logprobs': None} id='run--7ffe5ed7-d5fb-4713-838c-70132c82aebf-0' usage_metadata={'input_tokens': 31, 'output_tokens': 117, 'total_tokens': 148, 'input_token_details': {'audio': 0, 'cache_read': 0}, 'output_token_details': {'audio': 0, 'reasoning': 0}}\n",
      "\n",
      "\n",
      " The tea leaf paradox is a phenomenon that you might have noticed when you stir a cup of tea with leaves at the bottom. When you stir the tea, instead of being pushed to the sides of the cup due to centrifugal force, the leaves gather in the center. This happens because stirring creates a whirlpool effect where the surface of the liquid is higher at the edges and lower in the middle. The higher pressure at the edges pushes the leaves towards the center. It's not really a paradox, but it’s called so because it seems to go against what we'd initially expect.\n",
      "---\n",
      " Quiz Node Triggered!\n",
      " Summary being passed: The tea leaf paradox is a phenomenon that you might have noticed when you stir a cup of tea with leaves at the bottom. When you stir the tea, instead of being pushed to the sides of the cup due to centrifugal force, the leaves gather in the center. This happens because stirring creates a whirlpool effect where the surface of the liquid is higher at the edges and lower in the middle. The higher pressure at the edges pushes the leaves towards the center. It's not really a paradox, but it’s called so because it seems to go against what we'd initially expect.\n",
      " Got quiz response: content=\"Q1: What is the tea leaf paradox?\\nQ2: What happens to the tea leaves when you stir a cup of tea?\\nQ3: Why do the tea leaves gather in the center of the cup?\\nQ4: What effect does stirring create in the liquid?\\nQ5: Why is the tea leaf paradox considered a paradox?\\n\\nA1: The tea leaf paradox is a phenomenon where tea leaves gather in the center of the cup when stirred, instead of being pushed to the sides due to centrifugal force.\\nA2: When you stir a cup of tea, the leaves gather in the center of the cup instead of being pushed to the sides.\\nA3: The leaves gather in the center of the cup because stirring creates a whirlpool effect where the surface of the liquid is higher at the edges and lower in the middle. The higher pressure at the edges pushes the leaves towards the center.\\nA4: Stirring creates a whirlpool effect in the liquid where the surface is higher at the edges and lower in the middle.\\nA5: It's considered a paradox because it goes against what we'd initially expect, which is for the leaves to be pushed to the sides due to centrifugal force.\" additional_kwargs={'refusal': None} response_metadata={'token_usage': {'completion_tokens': 243, 'prompt_tokens': 161, 'total_tokens': 404, 'completion_tokens_details': {'accepted_prediction_tokens': 0, 'audio_tokens': 0, 'reasoning_tokens': 0, 'rejected_prediction_tokens': 0}, 'prompt_tokens_details': {'audio_tokens': 0, 'cached_tokens': 0}}, 'model_name': 'gpt-4-0613', 'system_fingerprint': None, 'id': 'chatcmpl-BpZvOB746S8v1RHLSaIV1JSAB0H02', 'service_tier': 'default', 'finish_reason': 'stop', 'logprobs': None} id='run--280d650a-33b3-4061-8d82-c29485b9c225-0' usage_metadata={'input_tokens': 161, 'output_tokens': 243, 'total_tokens': 404, 'input_token_details': {'audio': 0, 'cache_read': 0}, 'output_token_details': {'audio': 0, 'reasoning': 0}}\n",
      " Returning from quiz_node with messages:\n",
      " - Type: <class 'langchain_core.messages.ai.AIMessage'>, Content: The tea leaf paradox is a phenomenon that you might have noticed when you stir a cup of tea with leaves at the bottom. When you stir the tea, instead of being pushed to the sides of the cup due to centrifugal force, the leaves gather in the center. This happens because stirring creates a whirlpool effect where the surface of the liquid is higher at the edges and lower in the middle. The higher pressure at the edges pushes the leaves towards the center. It's not really a paradox, but it’s called so because it seems to go against what we'd initially expect.\n",
      " - Type: <class 'langchain_core.messages.ai.AIMessage'>, Content: Q1: What is the tea leaf paradox?\n",
      "Q2: What happens to the tea leaves when you stir a cup of tea?\n",
      "Q3: Why do the tea leaves gather in the center of the cup?\n",
      "Q4: What effect does stirring create in the liquid?\n",
      "Q5: Why is the tea leaf paradox considered a paradox?\n",
      "\n",
      "A1: The tea leaf paradox is a phenomenon where tea leaves gather in the center of the cup when stirred, instead of being pushed to the sides due to centrifugal force.\n",
      "A2: When you stir a cup of tea, the leaves gather in the center of the cup instead of being pushed to the sides.\n",
      "A3: The leaves gather in the center of the cup because stirring creates a whirlpool effect where the surface of the liquid is higher at the edges and lower in the middle. The higher pressure at the edges pushes the leaves towards the center.\n",
      "A4: Stirring creates a whirlpool effect in the liquid where the surface is higher at the edges and lower in the middle.\n",
      "A5: It's considered a paradox because it goes against what we'd initially expect, which is for the leaves to be pushed to the sides due to centrifugal force.\n",
      "\n",
      "Study session complete.\n"
     ]
    }
   ],
   "source": [
    "\n",
    "\n",
    "await run_study(\"Explain the tea leaf paradox\", age=16, style=\"quiz\")\n"
   ]
  }
 ],
 "metadata": {
  "kernelspec": {
   "display_name": "Python 3 (ipykernel)",
   "language": "python",
   "name": "python3"
  },
  "language_info": {
   "codemirror_mode": {
    "name": "ipython",
    "version": 3
   },
   "file_extension": ".py",
   "mimetype": "text/x-python",
   "name": "python",
   "nbconvert_exporter": "python",
   "pygments_lexer": "ipython3",
   "version": "3.10.11"
  }
 },
 "nbformat": 4,
 "nbformat_minor": 5
}
